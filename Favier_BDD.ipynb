{
 "cells": [
  {
   "cell_type": "markdown",
   "metadata": {},
   "source": [
    "### Python et BDD\n",
    "MODIFICATION POUR GIT"
   ]
  },
  {
   "cell_type": "code",
   "execution_count": 4,
   "metadata": {
    "scrolled": true
   },
   "outputs": [
    {
     "data": {
      "text/plain": [
       "[<matplotlib.lines.Line2D at 0x7f164daed790>]"
      ]
     },
     "execution_count": 4,
     "metadata": {},
     "output_type": "execute_result"
    },
    {
     "data": {
      "image/png": "[encoded data removed]",
      "text/plain": [
       "<Figure size 432x288 with 1 Axes>"
      ]
     },
     "metadata": {
      "needs_background": "light"
     },
     "output_type": "display_data"
    }
   ],
   "source": [
    "import sqlite3\n",
    "import pandas as pd\n",
    "import numpy as np\n",
    "import matplotlib.pyplot as plt\n",
    "\n",
    "#baseDeDonnees = sqlite3.connect('gtfs_tag.db')\n",
    "#df_agency = pd.read_csv('./SEM-GTFS/agency.txt')\n",
    "#df_agency\n",
    "\n",
    "x=np.linspace(0, 100)\n",
    "plt.plot(x)"
   ]
  },
  {
   "cell_type": "code",
   "execution_count": null,
   "metadata": {},
   "outputs": [],
   "source": [
    "df_agency.to_sql('Agency', con=baseDeDonnees, if_exists='replace', index=False)"
   ]
  },
  {
   "cell_type": "code",
   "execution_count": null,
   "metadata": {
    "scrolled": true
   },
   "outputs": [],
   "source": [
    "df_stops = pd.read_csv('./SEM-GTFS/stops.txt')\n",
    "df_stops.head()"
   ]
  },
  {
   "cell_type": "code",
   "execution_count": null,
   "metadata": {},
   "outputs": [],
   "source": [
    "df_stops.to_sql('Stops', con=baseDeDonnees, if_exists='replace', index=False)"
   ]
  },
  {
   "cell_type": "markdown",
   "metadata": {},
   "source": [
    "***Implémenter des fonctions***\n",
    "\n",
    "#1. insérer une ligne dans la database"
   ]
  },
  {
   "cell_type": "code",
   "execution_count": null,
   "metadata": {},
   "outputs": [],
   "source": [
    "def getList(dict):\n",
    "    return dict.keys()\n",
    "\n",
    "def gen_insert_query(table_name:str, a_dict:dict) -> str:\n",
    "    '''\n",
    "    fonction qui génère une commande insertion SQL\n",
    "    tablename : le nom de la table (e.g. gtfs_stops )\n",
    "    a_dict : dictionnaire Python\n",
    "    EXAMPLE OF QUERY : mySql_insert_query = \"\"\"INSERT INTO Laptop (Id, Name, Price, Purchase_date) \n",
    "                                                VALUES \n",
    "                                                (15, 'Lenovo ThinkPad P71', 6459, '2019-08-14') \"\"\"\n",
    "    '''\n",
    "    mySql_insert_query = 'INSERT INTO '+table_name+' ('+', '.join(tuple(getList(a_dict)))+')'+' VALUES '+' (:'+', :'.join(tuple(getList(a_dict)))+')'\n",
    "    return(mySql_insert_query)"
   ]
  },
  {
   "cell_type": "code",
   "execution_count": null,
   "metadata": {
    "scrolled": false
   },
   "outputs": [],
   "source": [
    "table_name = 'Stops'\n",
    "a_dict = {'stop_id': 9999,'stop_code': 9999, 'stop_name': '\"Ma Maison\"', 'stop_lat': 45.2122, 'stop_lon': 5.76728, 'zone_id': None, 'location_type': None, 'parent_station': 'LYON','wheelchair_boarding': 1}\n",
    "print(gen_insert_query(table_name, a_dict))"
   ]
  },
  {
   "cell_type": "code",
   "execution_count": null,
   "metadata": {
    "scrolled": false
   },
   "outputs": [],
   "source": [
    "a_dict={'stop_id': 9999,\n",
    " 'stop_code': 9999,\n",
    " 'stop_name': '\"Ma Maison\"',\n",
    " 'stop_lat': 45.2122,\n",
    " 'stop_lon': 5.76728,\n",
    " 'zone_id': None,\n",
    " 'location_type': None,\n",
    " 'parent_station': 'LYON',\n",
    " 'wheelchair_boarding': 1}"
   ]
  },
  {
   "cell_type": "code",
   "execution_count": null,
   "metadata": {
    "scrolled": true
   },
   "outputs": [],
   "source": [
    "cursor = baseDeDonnees.cursor()\n",
    "cursor.execute(gen_insert_query(table_name, a_dict), a_dict)\n",
    "baseDeDonnees.commit()"
   ]
  },
  {
   "cell_type": "markdown",
   "metadata": {},
   "source": [
    "#2. insérer une liste de lignes dans la database"
   ]
  },
  {
   "cell_type": "code",
   "execution_count": null,
   "metadata": {},
   "outputs": [],
   "source": [
    "def get_insert_queries(tablename:str, df: pd.DataFrame) -> list:\n",
    "    '''\n",
    "    fonction qui génère une liste de commande SQL\n",
    "    tablename : le nom de la table (e.g. gtfs_stops )\n",
    "    df : le dataframe à insérer\n",
    "    '''\n",
    "    list_query = []\n",
    "    list_dico = df.to_dict(orient='records')\n",
    "    for minidico in list_dico:\n",
    "        list_query.append(gen_insert_query(table_name, minidico))\n",
    "    return(list_query)"
   ]
  },
  {
   "cell_type": "code",
   "execution_count": null,
   "metadata": {},
   "outputs": [],
   "source": [
    "df_toInsert = df_stops.head()\n",
    "print(get_insert_queries(table_name, df_toInsert))"
   ]
  },
  {
   "cell_type": "code",
   "execution_count": null,
   "metadata": {
    "scrolled": true
   },
   "outputs": [],
   "source": [
    "cursor = baseDeDonnees.cursor()\n",
    "i=0\n",
    "for stringSQL in get_insert_queries(table_name, df_toInsert):\n",
    "    b_dict = df_toInsert.iloc[i]\n",
    "    cursor.execute(stringSQL, b_dict)\n",
    "    baseDeDonnees.commit()\n",
    "    i+=1"
   ]
  },
  {
   "cell_type": "code",
   "execution_count": null,
   "metadata": {},
   "outputs": [],
   "source": [
    "df_toInsert"
   ]
  },
  {
   "cell_type": "markdown",
   "metadata": {},
   "source": [
    "#3. implémenter une procédure qui crée un fichier SQL"
   ]
  },
  {
   "cell_type": "code",
   "execution_count": null,
   "metadata": {},
   "outputs": [],
   "source": [
    "def gen_create_file(filename, tablename, df):\n",
    "    '''\n",
    "    procédure qui crée un fichier db\n",
    "    filename : est le nom de fichier (e.g. insert_stops.db)\n",
    "    tablename : le nom de la relation où nous allons insérer nos tuples (e.g. gtfs_stops)\n",
    "    df : un dataframe pandas\n",
    "    '''\n",
    "    connection = sqlite3.connect(filename)    \n",
    "    cursor = connection.cursor()\n",
    "    df.to_sql(tablename, con=connection)"
   ]
  },
  {
   "cell_type": "code",
   "execution_count": null,
   "metadata": {},
   "outputs": [],
   "source": [
    "gen_create_file('newDatabase.db', 'stops', df_toInsert)"
   ]
  },
  {
   "cell_type": "code",
   "execution_count": null,
   "metadata": {
    "scrolled": true
   },
   "outputs": [],
   "source": [
    "def gen_insert_queries_df(table_name:str, df:pd.DataFrame) -> str:\n",
    "    dico = df.to_dict(orient='list')\n",
    "    a_string = f\"INSERT INTO {table_name} {tuple(dico.keys())} VALUES {','.join(str(i) for i in tuple(zip(*dico.values())))}\"\n",
    "    a_string = a_string.replace(\"nan\", \"'NaN'\")\n",
    "    return a_string"
   ]
  },
  {
   "cell_type": "code",
   "execution_count": null,
   "metadata": {
    "scrolled": true
   },
   "outputs": [],
   "source": [
    "gen_insert_queries_df(table_name, df_toInsert)"
   ]
  },
  {
   "cell_type": "code",
   "execution_count": null,
   "metadata": {},
   "outputs": [],
   "source": [
    "a_string = gen_insert_queries_df(table_name, df_toInsert)\n",
    "a_string = a_string.replace(\"nan\", \"'NaN'\")\n",
    "a_string"
   ]
  },
  {
   "cell_type": "code",
   "execution_count": null,
   "metadata": {},
   "outputs": [],
   "source": [
    "def gen_insert_file(filename, tablename, df):\n",
    "    '''\n",
    "    procédure qui crée un fichier sql\n",
    "    filename : est le nom de fichier (e.g. insert_stops.sql)\n",
    "    tablename : le nom de la relation où nous allons insérer nos tuples (e.g. gtfs_stops)\n",
    "    df : un dataframe pandas\n",
    "    '''\n",
    "    with open(filename, 'w') as file:\n",
    "        file.write(gen_insert_queries_df(table_name, df_toInsert))"
   ]
  },
  {
   "cell_type": "code",
   "execution_count": null,
   "metadata": {},
   "outputs": [],
   "source": [
    "gen_insert_file('file.sql', table_name, df_toInsert)"
   ]
  }
 ],
 "metadata": {
  "hide_input": false,
  "kernelspec": {
   "display_name": "Python 3 (ipykernel)",
   "language": "python",
   "name": "python3"
  },
  "language_info": {
   "codemirror_mode": {
    "name": "ipython",
    "version": 3
   },
   "file_extension": ".py",
   "mimetype": "text/x-python",
   "name": "python",
   "nbconvert_exporter": "python",
   "pygments_lexer": "ipython3",
   "version": "3.9.7"
  },
  "toc": {
   "base_numbering": 1,
   "nav_menu": {},
   "number_sections": true,
   "sideBar": true,
   "skip_h1_title": false,
   "title_cell": "Table of Contents",
   "title_sidebar": "Contents",
   "toc_cell": false,
   "toc_position": {},
   "toc_section_display": true,
   "toc_window_display": true
  },
  "varInspector": {
   "cols": {
    "lenName": 16,
    "lenType": 16,
    "lenVar": 40
   },
   "kernels_config": {
    "python": {
     "delete_cmd_postfix": "",
     "delete_cmd_prefix": "del ",
     "library": "var_list.py",
     "varRefreshCmd": "print(var_dic_list())"
    },
    "r": {
     "delete_cmd_postfix": ") ",
     "delete_cmd_prefix": "rm(",
     "library": "var_list.r",
     "varRefreshCmd": "cat(var_dic_list()) "
    }
   },
   "types_to_exclude": [
    "module",
    "function",
    "builtin_function_or_method",
    "instance",
    "_Feature"
   ],
   "window_display": false
  }
 },
 "nbformat": 4,
 "nbformat_minor": 4
}
